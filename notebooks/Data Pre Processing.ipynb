{
 "cells": [
  {
   "cell_type": "markdown",
   "metadata": {},
   "source": [
    "# Data Pre Processing\n",
    "\n",
    "After viewing our EDA we will be needing to create a few modifications to our data set in order to prepare it for our modeling."
   ]
  },
  {
   "cell_type": "code",
   "execution_count": 1612,
   "metadata": {},
   "outputs": [],
   "source": [
    "import pandas as pd\n",
    "import numpy as np\n",
    "from scipy import stats\n",
    "from scipy.stats import zscore\n",
    "import seaborn as sns\n",
    "\n",
    "datafile = pd.read_csv(\"../data/processed/fires.csv\")"
   ]
  },
  {
   "cell_type": "markdown",
   "metadata": {},
   "source": [
    "# Reviewing Columns\n",
    "\n",
    "First we will review our columns in order to remember how each one of them can be transformed"
   ]
  },
  {
   "cell_type": "code",
   "execution_count": 1613,
   "metadata": {},
   "outputs": [
    {
     "data": {
      "text/html": [
       "<div>\n",
       "<style scoped>\n",
       "    .dataframe tbody tr th:only-of-type {\n",
       "        vertical-align: middle;\n",
       "    }\n",
       "\n",
       "    .dataframe tbody tr th {\n",
       "        vertical-align: top;\n",
       "    }\n",
       "\n",
       "    .dataframe thead th {\n",
       "        text-align: right;\n",
       "    }\n",
       "</style>\n",
       "<table border=\"1\" class=\"dataframe\">\n",
       "  <thead>\n",
       "    <tr style=\"text-align: right;\">\n",
       "      <th></th>\n",
       "      <th>X</th>\n",
       "      <th>Y</th>\n",
       "      <th>month</th>\n",
       "      <th>FFMC</th>\n",
       "      <th>DMC</th>\n",
       "      <th>DC</th>\n",
       "      <th>ISI</th>\n",
       "      <th>temp</th>\n",
       "      <th>RH</th>\n",
       "      <th>wind</th>\n",
       "      <th>...</th>\n",
       "      <th>month_dec</th>\n",
       "      <th>month_feb</th>\n",
       "      <th>month_jan</th>\n",
       "      <th>month_jul</th>\n",
       "      <th>month_jun</th>\n",
       "      <th>month_mar</th>\n",
       "      <th>month_may</th>\n",
       "      <th>month_nov</th>\n",
       "      <th>month_oct</th>\n",
       "      <th>month_sep</th>\n",
       "    </tr>\n",
       "  </thead>\n",
       "  <tbody>\n",
       "    <tr>\n",
       "      <th>0</th>\n",
       "      <td>7</td>\n",
       "      <td>5</td>\n",
       "      <td>mar</td>\n",
       "      <td>86.2</td>\n",
       "      <td>26.2</td>\n",
       "      <td>94.3</td>\n",
       "      <td>5.1</td>\n",
       "      <td>8.2</td>\n",
       "      <td>51</td>\n",
       "      <td>6.7</td>\n",
       "      <td>...</td>\n",
       "      <td>False</td>\n",
       "      <td>False</td>\n",
       "      <td>False</td>\n",
       "      <td>False</td>\n",
       "      <td>False</td>\n",
       "      <td>True</td>\n",
       "      <td>False</td>\n",
       "      <td>False</td>\n",
       "      <td>False</td>\n",
       "      <td>False</td>\n",
       "    </tr>\n",
       "    <tr>\n",
       "      <th>1</th>\n",
       "      <td>7</td>\n",
       "      <td>4</td>\n",
       "      <td>oct</td>\n",
       "      <td>90.6</td>\n",
       "      <td>35.4</td>\n",
       "      <td>669.1</td>\n",
       "      <td>6.7</td>\n",
       "      <td>18.0</td>\n",
       "      <td>33</td>\n",
       "      <td>0.9</td>\n",
       "      <td>...</td>\n",
       "      <td>False</td>\n",
       "      <td>False</td>\n",
       "      <td>False</td>\n",
       "      <td>False</td>\n",
       "      <td>False</td>\n",
       "      <td>False</td>\n",
       "      <td>False</td>\n",
       "      <td>False</td>\n",
       "      <td>True</td>\n",
       "      <td>False</td>\n",
       "    </tr>\n",
       "    <tr>\n",
       "      <th>2</th>\n",
       "      <td>7</td>\n",
       "      <td>4</td>\n",
       "      <td>oct</td>\n",
       "      <td>90.6</td>\n",
       "      <td>43.7</td>\n",
       "      <td>686.9</td>\n",
       "      <td>6.7</td>\n",
       "      <td>14.6</td>\n",
       "      <td>33</td>\n",
       "      <td>1.3</td>\n",
       "      <td>...</td>\n",
       "      <td>False</td>\n",
       "      <td>False</td>\n",
       "      <td>False</td>\n",
       "      <td>False</td>\n",
       "      <td>False</td>\n",
       "      <td>False</td>\n",
       "      <td>False</td>\n",
       "      <td>False</td>\n",
       "      <td>True</td>\n",
       "      <td>False</td>\n",
       "    </tr>\n",
       "    <tr>\n",
       "      <th>3</th>\n",
       "      <td>8</td>\n",
       "      <td>6</td>\n",
       "      <td>mar</td>\n",
       "      <td>91.7</td>\n",
       "      <td>33.3</td>\n",
       "      <td>77.5</td>\n",
       "      <td>9.0</td>\n",
       "      <td>8.3</td>\n",
       "      <td>97</td>\n",
       "      <td>4.0</td>\n",
       "      <td>...</td>\n",
       "      <td>False</td>\n",
       "      <td>False</td>\n",
       "      <td>False</td>\n",
       "      <td>False</td>\n",
       "      <td>False</td>\n",
       "      <td>True</td>\n",
       "      <td>False</td>\n",
       "      <td>False</td>\n",
       "      <td>False</td>\n",
       "      <td>False</td>\n",
       "    </tr>\n",
       "    <tr>\n",
       "      <th>4</th>\n",
       "      <td>8</td>\n",
       "      <td>6</td>\n",
       "      <td>mar</td>\n",
       "      <td>89.3</td>\n",
       "      <td>51.3</td>\n",
       "      <td>102.2</td>\n",
       "      <td>9.6</td>\n",
       "      <td>11.4</td>\n",
       "      <td>99</td>\n",
       "      <td>1.8</td>\n",
       "      <td>...</td>\n",
       "      <td>False</td>\n",
       "      <td>False</td>\n",
       "      <td>False</td>\n",
       "      <td>False</td>\n",
       "      <td>False</td>\n",
       "      <td>True</td>\n",
       "      <td>False</td>\n",
       "      <td>False</td>\n",
       "      <td>False</td>\n",
       "      <td>False</td>\n",
       "    </tr>\n",
       "  </tbody>\n",
       "</table>\n",
       "<p>5 rows × 25 columns</p>\n",
       "</div>"
      ],
      "text/plain": [
       "   X  Y month  FFMC   DMC     DC  ISI  temp  RH  wind  ...  month_dec  \\\n",
       "0  7  5   mar  86.2  26.2   94.3  5.1   8.2  51   6.7  ...      False   \n",
       "1  7  4   oct  90.6  35.4  669.1  6.7  18.0  33   0.9  ...      False   \n",
       "2  7  4   oct  90.6  43.7  686.9  6.7  14.6  33   1.3  ...      False   \n",
       "3  8  6   mar  91.7  33.3   77.5  9.0   8.3  97   4.0  ...      False   \n",
       "4  8  6   mar  89.3  51.3  102.2  9.6  11.4  99   1.8  ...      False   \n",
       "\n",
       "   month_feb  month_jan  month_jul  month_jun  month_mar  month_may  \\\n",
       "0      False      False      False      False       True      False   \n",
       "1      False      False      False      False      False      False   \n",
       "2      False      False      False      False      False      False   \n",
       "3      False      False      False      False       True      False   \n",
       "4      False      False      False      False       True      False   \n",
       "\n",
       "   month_nov  month_oct  month_sep  \n",
       "0      False      False      False  \n",
       "1      False       True      False  \n",
       "2      False       True      False  \n",
       "3      False      False      False  \n",
       "4      False      False      False  \n",
       "\n",
       "[5 rows x 25 columns]"
      ]
     },
     "execution_count": 1613,
     "metadata": {},
     "output_type": "execute_result"
    }
   ],
   "source": [
    "datafile.head()"
   ]
  },
  {
   "cell_type": "markdown",
   "metadata": {},
   "source": [
    "# Filtering Out Extreme Outliers\n",
    "\n",
    "As we observed from the Data Exploration, there are many outliers that can make our Data Set unfit for our linear regression model. In this step we will be verifying each column for their outliers and filtering them out of the data frame through the usage of the z-score"
   ]
  },
  {
   "cell_type": "code",
   "execution_count": 1614,
   "metadata": {},
   "outputs": [],
   "source": [
    "z_scores = stats.zscore(datafile['area'])\n",
    "\n",
    "outliers = (z_scores > 0.5) | (z_scores < -2.9)\n",
    "\n",
    "datafile = datafile[~outliers]"
   ]
  },
  {
   "cell_type": "code",
   "execution_count": 1615,
   "metadata": {},
   "outputs": [
    {
     "name": "stdout",
     "output_type": "stream",
     "text": [
      "Outliers: 3       97\n",
      "4       99\n",
      "7       86\n",
      "98      87\n",
      "211     96\n",
      "286     90\n",
      "299     90\n",
      "304     94\n",
      "335     86\n",
      "379    100\n",
      "451     88\n",
      "Name: RH, dtype: int64\n"
     ]
    }
   ],
   "source": [
    "z_scores = stats.zscore(datafile['RH'])\n",
    "\n",
    "outliers_rh = (z_scores > 2.5) | (z_scores < -3)\n",
    "\n",
    "print(\"Outliers:\", datafile['RH'][outliers_rh])\n",
    "\n",
    "datafile = datafile[~outliers_rh]"
   ]
  },
  {
   "cell_type": "code",
   "execution_count": 1616,
   "metadata": {},
   "outputs": [
    {
     "name": "stdout",
     "output_type": "stream",
     "text": [
      "Outliers: 11     22.6\n",
      "12      0.8\n",
      "22     56.1\n",
      "24     20.3\n",
      "30     15.9\n",
      "42     17.0\n",
      "45     15.9\n",
      "71     15.9\n",
      "82     17.0\n",
      "97      0.7\n",
      "102    17.0\n",
      "124    15.9\n",
      "130     0.8\n",
      "133    17.9\n",
      "135    20.3\n",
      "148    17.0\n",
      "149    17.9\n",
      "153    15.9\n",
      "155    17.0\n",
      "167    16.5\n",
      "192    17.0\n",
      "194    17.0\n",
      "199     0.8\n",
      "206    20.3\n",
      "209    17.9\n",
      "212    15.9\n",
      "266    22.7\n",
      "312     0.4\n",
      "382    18.0\n",
      "421    18.0\n",
      "443    16.8\n",
      "450    18.0\n",
      "455    16.7\n",
      "475    18.0\n",
      "485    21.3\n",
      "486    17.7\n",
      "487    17.7\n",
      "489    17.7\n",
      "490    17.7\n",
      "495    16.8\n",
      "496    16.8\n",
      "503    20.0\n",
      "Name: ISI, dtype: float64\n"
     ]
    }
   ],
   "source": [
    "z_scores = stats.zscore(datafile['ISI'])\n",
    "\n",
    "outliers_rh = (z_scores > 1.5) | (z_scores < -1.8)\n",
    "\n",
    "print(\"Outliers:\", datafile['ISI'][outliers_rh])\n",
    "\n",
    "datafile = datafile[~outliers_rh]"
   ]
  },
  {
   "cell_type": "code",
   "execution_count": 1617,
   "metadata": {},
   "outputs": [
    {
     "name": "stdout",
     "output_type": "stream",
     "text": [
      "Outliers: 61      5.5\n",
      "104     5.3\n",
      "165     5.3\n",
      "176     5.8\n",
      "196     5.8\n",
      "273     4.8\n",
      "274     5.1\n",
      "275     5.1\n",
      "276     4.6\n",
      "277     4.6\n",
      "278     4.6\n",
      "279     4.6\n",
      "280     2.2\n",
      "281     5.1\n",
      "282     4.2\n",
      "394     5.3\n",
      "463     4.6\n",
      "464     5.1\n",
      "465     4.6\n",
      "484    33.1\n",
      "491    32.4\n",
      "492    32.4\n",
      "497    32.3\n",
      "498    33.3\n",
      "Name: temp, dtype: float64\n"
     ]
    }
   ],
   "source": [
    "z_scores = stats.zscore(datafile['temp'])\n",
    "\n",
    "outliers_rh = (z_scores > 2.3) | (z_scores < -2.2)\n",
    "\n",
    "print(\"Outliers:\", datafile['temp'][outliers_rh])\n",
    "\n",
    "datafile = datafile[~outliers_rh]"
   ]
  },
  {
   "cell_type": "code",
   "execution_count": 1618,
   "metadata": {},
   "outputs": [
    {
     "name": "stdout",
     "output_type": "stream",
     "text": [
      "Outliers: 142    8.9\n",
      "162    8.5\n",
      "168    9.4\n",
      "411    9.4\n",
      "506    8.5\n",
      "Name: wind, dtype: float64\n"
     ]
    }
   ],
   "source": [
    "z_scores = stats.zscore(datafile['wind'])\n",
    "\n",
    "outliers_w = (z_scores > 2.6) | (z_scores < -3)\n",
    "\n",
    "print(\"Outliers:\", datafile['wind'][outliers_w])\n",
    "\n",
    "datafile = datafile[~outliers_w]"
   ]
  },
  {
   "cell_type": "code",
   "execution_count": 1619,
   "metadata": {},
   "outputs": [
    {
     "name": "stdout",
     "output_type": "stream",
     "text": [
      "Outliers: 369    276.3\n",
      "370    276.3\n",
      "374    290.0\n",
      "383    248.4\n",
      "384    273.8\n",
      "398    231.1\n",
      "406    291.3\n",
      "408    290.0\n",
      "413    231.1\n",
      "414    235.1\n",
      "422    263.1\n",
      "424    231.1\n",
      "425    248.4\n",
      "426    248.4\n",
      "430    287.2\n",
      "433    235.1\n",
      "434    269.8\n",
      "437    253.6\n",
      "438    231.1\n",
      "440    290.0\n",
      "444    290.0\n",
      "448    284.9\n",
      "452    238.2\n",
      "453    266.2\n",
      "454    248.4\n",
      "456    248.4\n",
      "458    231.1\n",
      "459    273.8\n",
      "460    231.1\n",
      "461    231.1\n",
      "462    276.3\n",
      "Name: DMC, dtype: float64\n"
     ]
    }
   ],
   "source": [
    "z_scores = stats.zscore(datafile['DMC'])\n",
    "\n",
    "outliers_w = (z_scores > 1.8) | (z_scores < -3)\n",
    "\n",
    "print(\"Outliers:\", datafile['DMC'][outliers_w])\n",
    "\n",
    "datafile = datafile[~outliers_w]"
   ]
  },
  {
   "cell_type": "code",
   "execution_count": 1620,
   "metadata": {},
   "outputs": [
    {
     "name": "stdout",
     "output_type": "stream",
     "text": [
      "Outliers: 39     67.6\n",
      "48     64.7\n",
      "58     34.0\n",
      "59     43.0\n",
      "75     26.6\n",
      "76     43.0\n",
      "96     30.2\n",
      "105    57.3\n",
      "110    57.3\n",
      "114    67.6\n",
      "115    67.6\n",
      "131    64.7\n",
      "134    67.6\n",
      "182    48.3\n",
      "202    32.1\n",
      "239     7.9\n",
      "240    43.5\n",
      "283    18.7\n",
      "284    15.8\n",
      "378    30.6\n",
      "387    30.6\n",
      "390    58.3\n",
      "393    25.6\n",
      "407    55.0\n",
      "410    52.8\n",
      "417    28.3\n",
      "442    41.6\n",
      "447    28.3\n",
      "466    36.9\n",
      "467    41.1\n",
      "468    43.5\n",
      "470    25.6\n",
      "Name: DC, dtype: float64\n"
     ]
    }
   ],
   "source": [
    "z_scores = stats.zscore(datafile['DC'])\n",
    "\n",
    "outliers_dc = (z_scores > 2.5) | (z_scores < -1.9)\n",
    "\n",
    "print(\"Outliers:\", datafile['DC'][outliers_dc])\n",
    "\n",
    "datafile = datafile[~outliers_dc]"
   ]
  },
  {
   "cell_type": "code",
   "execution_count": 1621,
   "metadata": {},
   "outputs": [
    {
     "name": "stdout",
     "output_type": "stream",
     "text": [
      "Outliers: 243    1.0\n",
      "499    6.4\n",
      "500    0.8\n",
      "501    0.8\n",
      "509    1.4\n",
      "Name: rain, dtype: float64\n"
     ]
    }
   ],
   "source": [
    "z_scores = stats.zscore(datafile['rain'])\n",
    "\n",
    "outliers_r = (z_scores > 2.1) | (z_scores < -1.9)\n",
    "\n",
    "print(\"Outliers:\", datafile['rain'][outliers_r])\n",
    "\n",
    "datafile = datafile[~outliers_r]"
   ]
  },
  {
   "cell_type": "code",
   "execution_count": 1622,
   "metadata": {},
   "outputs": [
    {
     "name": "stdout",
     "output_type": "stream",
     "text": [
      "Outliers: 0      86.2\n",
      "17     84.9\n",
      "19     86.3\n",
      "40     79.5\n",
      "47     94.2\n",
      "49     87.6\n",
      "77     87.6\n",
      "123    84.4\n",
      "126    87.6\n",
      "138    85.8\n",
      "141    95.5\n",
      "144    95.5\n",
      "145    95.2\n",
      "147    84.4\n",
      "161    95.2\n",
      "169    95.2\n",
      "171    85.6\n",
      "181    84.9\n",
      "191    95.2\n",
      "213    87.6\n",
      "222    87.6\n",
      "241    83.0\n",
      "242    94.2\n",
      "255    87.5\n",
      "256    94.2\n",
      "257    94.2\n",
      "264    94.3\n",
      "324    88.1\n",
      "373    94.8\n",
      "388    94.8\n",
      "389    94.8\n",
      "402    94.8\n",
      "404    87.9\n",
      "405    94.6\n",
      "428    94.8\n",
      "432    94.8\n",
      "445    94.0\n",
      "482    94.9\n",
      "483    94.9\n",
      "493    95.9\n",
      "494    96.0\n",
      "502    96.1\n",
      "511    81.6\n",
      "512    81.6\n",
      "514    81.6\n",
      "515    94.4\n",
      "516    79.5\n",
      "Name: FFMC, dtype: float64\n"
     ]
    }
   ],
   "source": [
    "z_scores = stats.zscore(datafile['FFMC'])\n",
    "\n",
    "outliers_fmc = (z_scores > 1.1) | (z_scores < -1.45)\n",
    "\n",
    "print(\"Outliers:\", datafile['FFMC'][outliers_fmc])\n",
    "\n",
    "datafile = datafile[~outliers_fmc]"
   ]
  },
  {
   "cell_type": "markdown",
   "metadata": {},
   "source": [
    "# Filtering Out Columns\n",
    "\n",
    "Due to the column \"month\" being a string we will need to drop it for our linear regression. The Linear Regression will need to convert the values into floats and strings cannot be converted to floats. In the data exploration through the heatmap we were also able to see multicollinearity which may affect how the data frame would fit into the linear regression model so we will be dropping columns that also demonstrate that multicollinearity with other variables."
   ]
  },
  {
   "cell_type": "code",
   "execution_count": 1623,
   "metadata": {},
   "outputs": [],
   "source": [
    "df_processed = datafile.drop('month', axis=1).drop(\"X\", axis=1).drop(\"Y\", axis= 1).drop(\"month_numerical\", axis=1)\n"
   ]
  },
  {
   "cell_type": "code",
   "execution_count": 1624,
   "metadata": {},
   "outputs": [],
   "source": [
    "# save data for later modeling\n",
    "df_processed.to_csv(\"../data/processed/processed_fires.csv\", index= False)"
   ]
  }
 ],
 "metadata": {
  "kernelspec": {
   "display_name": "phase1",
   "language": "python",
   "name": "python3"
  },
  "language_info": {
   "codemirror_mode": {
    "name": "ipython",
    "version": 3
   },
   "file_extension": ".py",
   "mimetype": "text/x-python",
   "name": "python",
   "nbconvert_exporter": "python",
   "pygments_lexer": "ipython3",
   "version": "3.9.18"
  }
 },
 "nbformat": 4,
 "nbformat_minor": 2
}
